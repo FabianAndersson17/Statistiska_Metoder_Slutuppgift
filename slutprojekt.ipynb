{
 "cells": [
  {
   "cell_type": "code",
   "execution_count": 1,
   "metadata": {},
   "outputs": [],
   "source": [
    "import pandas as pd\n",
    "import scipy\n",
    "import statsmodels as sm\n",
    "import numpy as np\n",
    "import matplotlib.pyplot as plt"
   ]
  },
  {
   "cell_type": "code",
   "execution_count": 2,
   "metadata": {},
   "outputs": [],
   "source": [
    "wine_data = pd.read_csv(\"data/wine.data\")"
   ]
  },
  {
   "attachments": {},
   "cell_type": "markdown",
   "metadata": {},
   "source": [
    "Summan av alla x där x är en alkohol halt i tabelen för en specific druva delat på antalet x utycket som n\n",
    "$$ mean = \\frac {\\sum x } n$$"
   ]
  },
  {
   "cell_type": "code",
   "execution_count": 3,
   "metadata": {},
   "outputs": [],
   "source": [
    "grape_1_Alcohol = wine_data[\"Alcohol\"].loc[1]\n",
    "grape_2_Alcohol = wine_data[\"Alcohol\"].loc[2]\n",
    "grape_3_Alcohol = wine_data[\"Alcohol\"].loc[3]\n",
    "\n",
    "grape_1_Alc_mean = grape_1_Alcohol.mean()\n",
    "grape_2_Alc_mean = grape_2_Alcohol.mean()\n",
    "grape_3_Alc_mean = grape_3_Alcohol.mean()"
   ]
  },
  {
   "cell_type": "code",
   "execution_count": 6,
   "metadata": {},
   "outputs": [],
   "source": [
    "grape_1_standard_deviation = grape_1_Alcohol.std()\n",
    "grape_2_standard_deviation = grape_2_Alcohol.std()\n",
    "grape_3_standard_deviation = grape_3_Alcohol.std()"
   ]
  }
 ],
 "metadata": {
  "kernelspec": {
   "display_name": "Statistiska_Metoder_Slutuppgift-Qsl-rJj0",
   "language": "python",
   "name": "python3"
  },
  "language_info": {
   "codemirror_mode": {
    "name": "ipython",
    "version": 3
   },
   "file_extension": ".py",
   "mimetype": "text/x-python",
   "name": "python",
   "nbconvert_exporter": "python",
   "pygments_lexer": "ipython3",
   "version": "3.9.13"
  },
  "orig_nbformat": 4
 },
 "nbformat": 4,
 "nbformat_minor": 2
}
