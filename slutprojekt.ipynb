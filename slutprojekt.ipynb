{
 "cells": [
  {
   "cell_type": "code",
   "execution_count": 8,
   "metadata": {},
   "outputs": [],
   "source": [
    "import pandas as pd\n",
    "import scipy\n",
    "import statsmodels as sm\n",
    "import numpy as np"
   ]
  },
  {
   "cell_type": "code",
   "execution_count": 19,
   "metadata": {},
   "outputs": [
    {
     "data": {
      "text/html": [
       "<div>\n",
       "<style scoped>\n",
       "    .dataframe tbody tr th:only-of-type {\n",
       "        vertical-align: middle;\n",
       "    }\n",
       "\n",
       "    .dataframe tbody tr th {\n",
       "        vertical-align: top;\n",
       "    }\n",
       "\n",
       "    .dataframe thead th {\n",
       "        text-align: right;\n",
       "    }\n",
       "</style>\n",
       "<table border=\"1\" class=\"dataframe\">\n",
       "  <thead>\n",
       "    <tr style=\"text-align: right;\">\n",
       "      <th></th>\n",
       "      <th>1,14.23,1.71,2.43,15.6,127,2.8,3.06,.28,2.29,5.64,1.04,3.92,1065</th>\n",
       "    </tr>\n",
       "  </thead>\n",
       "  <tbody>\n",
       "    <tr>\n",
       "      <th>0</th>\n",
       "      <td>1,13.2,1.78,2.14,11.2,100,2.65,2.76,.26,1.28,4...</td>\n",
       "    </tr>\n",
       "    <tr>\n",
       "      <th>1</th>\n",
       "      <td>1,13.16,2.36,2.67,18.6,101,2.8,3.24,.3,2.81,5....</td>\n",
       "    </tr>\n",
       "    <tr>\n",
       "      <th>2</th>\n",
       "      <td>1,14.37,1.95,2.5,16.8,113,3.85,3.49,.24,2.18,7...</td>\n",
       "    </tr>\n",
       "    <tr>\n",
       "      <th>3</th>\n",
       "      <td>1,13.24,2.59,2.87,21,118,2.8,2.69,.39,1.82,4.3...</td>\n",
       "    </tr>\n",
       "    <tr>\n",
       "      <th>4</th>\n",
       "      <td>1,14.2,1.76,2.45,15.2,112,3.27,3.39,.34,1.97,6...</td>\n",
       "    </tr>\n",
       "    <tr>\n",
       "      <th>...</th>\n",
       "      <td>...</td>\n",
       "    </tr>\n",
       "    <tr>\n",
       "      <th>172</th>\n",
       "      <td>3,13.71,5.65,2.45,20.5,95,1.68,.61,.52,1.06,7....</td>\n",
       "    </tr>\n",
       "    <tr>\n",
       "      <th>173</th>\n",
       "      <td>3,13.4,3.91,2.48,23,102,1.8,.75,.43,1.41,7.3,....</td>\n",
       "    </tr>\n",
       "    <tr>\n",
       "      <th>174</th>\n",
       "      <td>3,13.27,4.28,2.26,20,120,1.59,.69,.43,1.35,10....</td>\n",
       "    </tr>\n",
       "    <tr>\n",
       "      <th>175</th>\n",
       "      <td>3,13.17,2.59,2.37,20,120,1.65,.68,.53,1.46,9.3...</td>\n",
       "    </tr>\n",
       "    <tr>\n",
       "      <th>176</th>\n",
       "      <td>3,14.13,4.1,2.74,24.5,96,2.05,.76,.56,1.35,9.2...</td>\n",
       "    </tr>\n",
       "  </tbody>\n",
       "</table>\n",
       "<p>177 rows × 1 columns</p>\n",
       "</div>"
      ],
      "text/plain": [
       "    1,14.23,1.71,2.43,15.6,127,2.8,3.06,.28,2.29,5.64,1.04,3.92,1065\n",
       "0    1,13.2,1.78,2.14,11.2,100,2.65,2.76,.26,1.28,4...              \n",
       "1    1,13.16,2.36,2.67,18.6,101,2.8,3.24,.3,2.81,5....              \n",
       "2    1,14.37,1.95,2.5,16.8,113,3.85,3.49,.24,2.18,7...              \n",
       "3    1,13.24,2.59,2.87,21,118,2.8,2.69,.39,1.82,4.3...              \n",
       "4    1,14.2,1.76,2.45,15.2,112,3.27,3.39,.34,1.97,6...              \n",
       "..                                                 ...              \n",
       "172  3,13.71,5.65,2.45,20.5,95,1.68,.61,.52,1.06,7....              \n",
       "173  3,13.4,3.91,2.48,23,102,1.8,.75,.43,1.41,7.3,....              \n",
       "174  3,13.27,4.28,2.26,20,120,1.59,.69,.43,1.35,10....              \n",
       "175  3,13.17,2.59,2.37,20,120,1.65,.68,.53,1.46,9.3...              \n",
       "176  3,14.13,4.1,2.74,24.5,96,2.05,.76,.56,1.35,9.2...              \n",
       "\n",
       "[177 rows x 1 columns]"
      ]
     },
     "execution_count": 19,
     "metadata": {},
     "output_type": "execute_result"
    }
   ],
   "source": [
    "pd.read_fwf(\"data/wine.data\")"
   ]
  }
 ],
 "metadata": {
  "kernelspec": {
   "display_name": "Statistiska_Metoder_Slutuppgift-Qsl-rJj0",
   "language": "python",
   "name": "python3"
  },
  "language_info": {
   "codemirror_mode": {
    "name": "ipython",
    "version": 3
   },
   "file_extension": ".py",
   "mimetype": "text/x-python",
   "name": "python",
   "nbconvert_exporter": "python",
   "pygments_lexer": "ipython3",
   "version": "3.9.13"
  },
  "orig_nbformat": 4
 },
 "nbformat": 4,
 "nbformat_minor": 2
}
