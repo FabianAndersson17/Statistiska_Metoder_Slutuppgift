{
 "cells": [
  {
   "cell_type": "code",
   "execution_count": 2,
   "metadata": {},
   "outputs": [],
   "source": [
    "import pandas as pd\n",
    "import scipy\n",
    "import statsmodels as sm\n",
    "import numpy as np\n",
    "import matplotlib.pyplot as plt"
   ]
  },
  {
   "cell_type": "code",
   "execution_count": 3,
   "metadata": {},
   "outputs": [],
   "source": [
    "wine_data = pd.read_csv(\"data/wine.data\")"
   ]
  },
  {
   "attachments": {},
   "cell_type": "markdown",
   "metadata": {},
   "source": [
    "Summan av alla x där x är en alkohol halt i tabelen för en specific druva delat på antalet x utycket som n\n",
    "$$ \\overline x = \\frac {\\sum x } n$$\n",
    "___\n",
    "Roten ut summan av all x där x är en alkohol halt i tabelen för en specifik druva plus medlevärdet för en druv sort upphöjt med 2, delat på n där n är antalet rader för en specifik druva.\n",
    "$$ s = \\sqrt{\\frac{\\sum(x + \\overline x)^2} n} $$"
   ]
  },
  {
   "cell_type": "code",
   "execution_count": 4,
   "metadata": {},
   "outputs": [
    {
     "name": "stdout",
     "output_type": "stream",
     "text": [
      "Druva 1: medelvärde = 13.744745762711865 standard avvikelse = 0.46212535966129437\n",
      "Druva 2: medelvärde = 12.278732394366195 standard avvikelse = 0.5379642302964676\n",
      "Druva 3: medelvärde = 13.153750000000002 standard avvikelse = 0.5302413139918747\n"
     ]
    }
   ],
   "source": [
    "grape_1_Alcohol = wine_data[\"Alcohol\"].loc[1]\n",
    "grape_2_Alcohol = wine_data[\"Alcohol\"].loc[2]\n",
    "grape_3_Alcohol = wine_data[\"Alcohol\"].loc[3]\n",
    "\n",
    "grape_1_Alc_mean = grape_1_Alcohol.mean()\n",
    "grape_2_Alc_mean = grape_2_Alcohol.mean()\n",
    "grape_3_Alc_mean = grape_3_Alcohol.mean()\n",
    "\n",
    "grape_1_standard_deviation = grape_1_Alcohol.std()\n",
    "grape_2_standard_deviation = grape_2_Alcohol.std()\n",
    "grape_3_standard_deviation = grape_3_Alcohol.std()\n",
    "\n",
    "print(f\"Druva 1: medelvärde = {grape_1_Alc_mean} standard avvikelse = {grape_1_standard_deviation}\")\n",
    "print(f\"Druva 2: medelvärde = {grape_2_Alc_mean} standard avvikelse = {grape_2_standard_deviation}\")\n",
    "print(f\"Druva 3: medelvärde = {grape_3_Alc_mean} standard avvikelse = {grape_3_standard_deviation}\")"
   ]
  },
  {
   "cell_type": "code",
   "execution_count": 8,
   "metadata": {},
   "outputs": [
    {
     "ename": "AttributeError",
     "evalue": "module 'matplotlib.pyplot' has no attribute 'dist'",
     "output_type": "error",
     "traceback": [
      "\u001b[1;31m---------------------------------------------------------------------------\u001b[0m",
      "\u001b[1;31mAttributeError\u001b[0m                            Traceback (most recent call last)",
      "Cell \u001b[1;32mIn[8], line 1\u001b[0m\n\u001b[1;32m----> 1\u001b[0m fig \u001b[39m=\u001b[39m plt\u001b[39m.\u001b[39;49mdist(grape_1_Alcohol);\n",
      "\u001b[1;31mAttributeError\u001b[0m: module 'matplotlib.pyplot' has no attribute 'dist'"
     ]
    }
   ],
   "source": [
    "fig = plt.dist(grape_1_Alcohol);"
   ]
  }
 ],
 "metadata": {
  "kernelspec": {
   "display_name": "Statistiska_Metoder_Slutuppgift-Qsl-rJj0",
   "language": "python",
   "name": "python3"
  },
  "language_info": {
   "codemirror_mode": {
    "name": "ipython",
    "version": 3
   },
   "file_extension": ".py",
   "mimetype": "text/x-python",
   "name": "python",
   "nbconvert_exporter": "python",
   "pygments_lexer": "ipython3",
   "version": "3.9.13"
  },
  "orig_nbformat": 4
 },
 "nbformat": 4,
 "nbformat_minor": 2
}
